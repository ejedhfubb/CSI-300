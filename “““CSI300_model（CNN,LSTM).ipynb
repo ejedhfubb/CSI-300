{
  "nbformat": 4,
  "nbformat_minor": 0,
  "metadata": {
    "colab": {
      "provenance": [],
      "authorship_tag": "ABX9TyOy5OUfZGxLRUO+6mRpY7IO",
      "include_colab_link": true
    },
    "kernelspec": {
      "name": "python3",
      "display_name": "Python 3"
    },
    "language_info": {
      "name": "python"
    },
    "gpuClass": "standard"
  },
  "cells": [
    {
      "cell_type": "markdown",
      "metadata": {
        "id": "view-in-github",
        "colab_type": "text"
      },
      "source": [
        "<a href=\"https://colab.research.google.com/github/ejedhfubb/CSI-300/blob/main/%E2%80%9C%E2%80%9C%E2%80%9CCSI300_model%EF%BC%88CNN%2CLSTM).ipynb\" target=\"_parent\"><img src=\"https://colab.research.google.com/assets/colab-badge.svg\" alt=\"Open In Colab\"/></a>"
      ]
    },
    {
      "cell_type": "code",
      "execution_count": 1,
      "metadata": {
        "colab": {
          "base_uri": "https://localhost:8080/",
          "height": 488
        },
        "id": "rzzOgZGamvcc",
        "outputId": "37f6ec5f-f50e-4369-ec6e-888046f9d857"
      },
      "outputs": [
        {
          "output_type": "execute_result",
          "data": {
            "text/plain": [
              "      target  SentimentIndex  SSMA10_-1  SSMA10_1  WWMA10_-1  WWMA10_1  \\\n",
              "0          1        0.428590          0         1          0         1   \n",
              "1          0       -0.483222          0         1          0         1   \n",
              "2          1       -1.000000          1         0          1         0   \n",
              "3          0       -0.204933          0         1          0         1   \n",
              "4          1       -1.000000          1         0          1         0   \n",
              "...      ...             ...        ...       ...        ...       ...   \n",
              "1655       0       -0.221616          1         0          1         0   \n",
              "1656       1        0.192939          1         0          1         0   \n",
              "1657       0       -0.119951          1         0          1         0   \n",
              "1658       1       -0.013028          1         0          1         0   \n",
              "1659       0        0.134021          1         0          1         0   \n",
              "\n",
              "      MMOM_-1  MMOM_1  stochKK_-1  stochKK_1  ...  WILLRR_-1  WILLRR_1  \\\n",
              "0           0       1           0          1  ...          0         1   \n",
              "1           0       1           0          1  ...          1         0   \n",
              "2           1       0           0          1  ...          0         1   \n",
              "3           1       0           1          0  ...          1         0   \n",
              "4           1       0           1          0  ...          0         1   \n",
              "...       ...     ...         ...        ...  ...        ...       ...   \n",
              "1655        1       0           1          0  ...          1         0   \n",
              "1656        1       0           0          1  ...          0         1   \n",
              "1657        1       0           1          0  ...          1         0   \n",
              "1658        1       0           0          1  ...          0         1   \n",
              "1659        1       0           1          0  ...          1         0   \n",
              "\n",
              "      ADXX_-1  ADXX_1  RSI1_-1  RSI1_0  RSI1_1  CCI2_-1  CCI2_0  CCI2_1  \n",
              "0           1       0        0       1       0        0       1       0  \n",
              "1           1       0        0       1       0        0       1       0  \n",
              "2           1       0        0       1       0        0       1       0  \n",
              "3           1       0        0       1       0        0       1       0  \n",
              "4           1       0        0       1       0        0       1       0  \n",
              "...       ...     ...      ...     ...     ...      ...     ...     ...  \n",
              "1655        0       1        0       1       0        0       1       0  \n",
              "1656        1       0        0       1       0        0       1       0  \n",
              "1657        1       0        0       1       0        0       1       0  \n",
              "1658        1       0        0       1       0        0       1       0  \n",
              "1659        1       0        0       1       0        0       1       0  \n",
              "\n",
              "[1660 rows x 24 columns]"
            ],
            "text/html": [
              "\n",
              "  <div id=\"df-80e9404d-86ad-4d6b-b27a-39cb825a96aa\">\n",
              "    <div class=\"colab-df-container\">\n",
              "      <div>\n",
              "<style scoped>\n",
              "    .dataframe tbody tr th:only-of-type {\n",
              "        vertical-align: middle;\n",
              "    }\n",
              "\n",
              "    .dataframe tbody tr th {\n",
              "        vertical-align: top;\n",
              "    }\n",
              "\n",
              "    .dataframe thead th {\n",
              "        text-align: right;\n",
              "    }\n",
              "</style>\n",
              "<table border=\"1\" class=\"dataframe\">\n",
              "  <thead>\n",
              "    <tr style=\"text-align: right;\">\n",
              "      <th></th>\n",
              "      <th>target</th>\n",
              "      <th>SentimentIndex</th>\n",
              "      <th>SSMA10_-1</th>\n",
              "      <th>SSMA10_1</th>\n",
              "      <th>WWMA10_-1</th>\n",
              "      <th>WWMA10_1</th>\n",
              "      <th>MMOM_-1</th>\n",
              "      <th>MMOM_1</th>\n",
              "      <th>stochKK_-1</th>\n",
              "      <th>stochKK_1</th>\n",
              "      <th>...</th>\n",
              "      <th>WILLRR_-1</th>\n",
              "      <th>WILLRR_1</th>\n",
              "      <th>ADXX_-1</th>\n",
              "      <th>ADXX_1</th>\n",
              "      <th>RSI1_-1</th>\n",
              "      <th>RSI1_0</th>\n",
              "      <th>RSI1_1</th>\n",
              "      <th>CCI2_-1</th>\n",
              "      <th>CCI2_0</th>\n",
              "      <th>CCI2_1</th>\n",
              "    </tr>\n",
              "  </thead>\n",
              "  <tbody>\n",
              "    <tr>\n",
              "      <th>0</th>\n",
              "      <td>1</td>\n",
              "      <td>0.428590</td>\n",
              "      <td>0</td>\n",
              "      <td>1</td>\n",
              "      <td>0</td>\n",
              "      <td>1</td>\n",
              "      <td>0</td>\n",
              "      <td>1</td>\n",
              "      <td>0</td>\n",
              "      <td>1</td>\n",
              "      <td>...</td>\n",
              "      <td>0</td>\n",
              "      <td>1</td>\n",
              "      <td>1</td>\n",
              "      <td>0</td>\n",
              "      <td>0</td>\n",
              "      <td>1</td>\n",
              "      <td>0</td>\n",
              "      <td>0</td>\n",
              "      <td>1</td>\n",
              "      <td>0</td>\n",
              "    </tr>\n",
              "    <tr>\n",
              "      <th>1</th>\n",
              "      <td>0</td>\n",
              "      <td>-0.483222</td>\n",
              "      <td>0</td>\n",
              "      <td>1</td>\n",
              "      <td>0</td>\n",
              "      <td>1</td>\n",
              "      <td>0</td>\n",
              "      <td>1</td>\n",
              "      <td>0</td>\n",
              "      <td>1</td>\n",
              "      <td>...</td>\n",
              "      <td>1</td>\n",
              "      <td>0</td>\n",
              "      <td>1</td>\n",
              "      <td>0</td>\n",
              "      <td>0</td>\n",
              "      <td>1</td>\n",
              "      <td>0</td>\n",
              "      <td>0</td>\n",
              "      <td>1</td>\n",
              "      <td>0</td>\n",
              "    </tr>\n",
              "    <tr>\n",
              "      <th>2</th>\n",
              "      <td>1</td>\n",
              "      <td>-1.000000</td>\n",
              "      <td>1</td>\n",
              "      <td>0</td>\n",
              "      <td>1</td>\n",
              "      <td>0</td>\n",
              "      <td>1</td>\n",
              "      <td>0</td>\n",
              "      <td>0</td>\n",
              "      <td>1</td>\n",
              "      <td>...</td>\n",
              "      <td>0</td>\n",
              "      <td>1</td>\n",
              "      <td>1</td>\n",
              "      <td>0</td>\n",
              "      <td>0</td>\n",
              "      <td>1</td>\n",
              "      <td>0</td>\n",
              "      <td>0</td>\n",
              "      <td>1</td>\n",
              "      <td>0</td>\n",
              "    </tr>\n",
              "    <tr>\n",
              "      <th>3</th>\n",
              "      <td>0</td>\n",
              "      <td>-0.204933</td>\n",
              "      <td>0</td>\n",
              "      <td>1</td>\n",
              "      <td>0</td>\n",
              "      <td>1</td>\n",
              "      <td>1</td>\n",
              "      <td>0</td>\n",
              "      <td>1</td>\n",
              "      <td>0</td>\n",
              "      <td>...</td>\n",
              "      <td>1</td>\n",
              "      <td>0</td>\n",
              "      <td>1</td>\n",
              "      <td>0</td>\n",
              "      <td>0</td>\n",
              "      <td>1</td>\n",
              "      <td>0</td>\n",
              "      <td>0</td>\n",
              "      <td>1</td>\n",
              "      <td>0</td>\n",
              "    </tr>\n",
              "    <tr>\n",
              "      <th>4</th>\n",
              "      <td>1</td>\n",
              "      <td>-1.000000</td>\n",
              "      <td>1</td>\n",
              "      <td>0</td>\n",
              "      <td>1</td>\n",
              "      <td>0</td>\n",
              "      <td>1</td>\n",
              "      <td>0</td>\n",
              "      <td>1</td>\n",
              "      <td>0</td>\n",
              "      <td>...</td>\n",
              "      <td>0</td>\n",
              "      <td>1</td>\n",
              "      <td>1</td>\n",
              "      <td>0</td>\n",
              "      <td>0</td>\n",
              "      <td>1</td>\n",
              "      <td>0</td>\n",
              "      <td>0</td>\n",
              "      <td>1</td>\n",
              "      <td>0</td>\n",
              "    </tr>\n",
              "    <tr>\n",
              "      <th>...</th>\n",
              "      <td>...</td>\n",
              "      <td>...</td>\n",
              "      <td>...</td>\n",
              "      <td>...</td>\n",
              "      <td>...</td>\n",
              "      <td>...</td>\n",
              "      <td>...</td>\n",
              "      <td>...</td>\n",
              "      <td>...</td>\n",
              "      <td>...</td>\n",
              "      <td>...</td>\n",
              "      <td>...</td>\n",
              "      <td>...</td>\n",
              "      <td>...</td>\n",
              "      <td>...</td>\n",
              "      <td>...</td>\n",
              "      <td>...</td>\n",
              "      <td>...</td>\n",
              "      <td>...</td>\n",
              "      <td>...</td>\n",
              "      <td>...</td>\n",
              "    </tr>\n",
              "    <tr>\n",
              "      <th>1655</th>\n",
              "      <td>0</td>\n",
              "      <td>-0.221616</td>\n",
              "      <td>1</td>\n",
              "      <td>0</td>\n",
              "      <td>1</td>\n",
              "      <td>0</td>\n",
              "      <td>1</td>\n",
              "      <td>0</td>\n",
              "      <td>1</td>\n",
              "      <td>0</td>\n",
              "      <td>...</td>\n",
              "      <td>1</td>\n",
              "      <td>0</td>\n",
              "      <td>0</td>\n",
              "      <td>1</td>\n",
              "      <td>0</td>\n",
              "      <td>1</td>\n",
              "      <td>0</td>\n",
              "      <td>0</td>\n",
              "      <td>1</td>\n",
              "      <td>0</td>\n",
              "    </tr>\n",
              "    <tr>\n",
              "      <th>1656</th>\n",
              "      <td>1</td>\n",
              "      <td>0.192939</td>\n",
              "      <td>1</td>\n",
              "      <td>0</td>\n",
              "      <td>1</td>\n",
              "      <td>0</td>\n",
              "      <td>1</td>\n",
              "      <td>0</td>\n",
              "      <td>0</td>\n",
              "      <td>1</td>\n",
              "      <td>...</td>\n",
              "      <td>0</td>\n",
              "      <td>1</td>\n",
              "      <td>1</td>\n",
              "      <td>0</td>\n",
              "      <td>0</td>\n",
              "      <td>1</td>\n",
              "      <td>0</td>\n",
              "      <td>0</td>\n",
              "      <td>1</td>\n",
              "      <td>0</td>\n",
              "    </tr>\n",
              "    <tr>\n",
              "      <th>1657</th>\n",
              "      <td>0</td>\n",
              "      <td>-0.119951</td>\n",
              "      <td>1</td>\n",
              "      <td>0</td>\n",
              "      <td>1</td>\n",
              "      <td>0</td>\n",
              "      <td>1</td>\n",
              "      <td>0</td>\n",
              "      <td>1</td>\n",
              "      <td>0</td>\n",
              "      <td>...</td>\n",
              "      <td>1</td>\n",
              "      <td>0</td>\n",
              "      <td>1</td>\n",
              "      <td>0</td>\n",
              "      <td>0</td>\n",
              "      <td>1</td>\n",
              "      <td>0</td>\n",
              "      <td>0</td>\n",
              "      <td>1</td>\n",
              "      <td>0</td>\n",
              "    </tr>\n",
              "    <tr>\n",
              "      <th>1658</th>\n",
              "      <td>1</td>\n",
              "      <td>-0.013028</td>\n",
              "      <td>1</td>\n",
              "      <td>0</td>\n",
              "      <td>1</td>\n",
              "      <td>0</td>\n",
              "      <td>1</td>\n",
              "      <td>0</td>\n",
              "      <td>0</td>\n",
              "      <td>1</td>\n",
              "      <td>...</td>\n",
              "      <td>0</td>\n",
              "      <td>1</td>\n",
              "      <td>1</td>\n",
              "      <td>0</td>\n",
              "      <td>0</td>\n",
              "      <td>1</td>\n",
              "      <td>0</td>\n",
              "      <td>0</td>\n",
              "      <td>1</td>\n",
              "      <td>0</td>\n",
              "    </tr>\n",
              "    <tr>\n",
              "      <th>1659</th>\n",
              "      <td>0</td>\n",
              "      <td>0.134021</td>\n",
              "      <td>1</td>\n",
              "      <td>0</td>\n",
              "      <td>1</td>\n",
              "      <td>0</td>\n",
              "      <td>1</td>\n",
              "      <td>0</td>\n",
              "      <td>1</td>\n",
              "      <td>0</td>\n",
              "      <td>...</td>\n",
              "      <td>1</td>\n",
              "      <td>0</td>\n",
              "      <td>1</td>\n",
              "      <td>0</td>\n",
              "      <td>0</td>\n",
              "      <td>1</td>\n",
              "      <td>0</td>\n",
              "      <td>0</td>\n",
              "      <td>1</td>\n",
              "      <td>0</td>\n",
              "    </tr>\n",
              "  </tbody>\n",
              "</table>\n",
              "<p>1660 rows × 24 columns</p>\n",
              "</div>\n",
              "      <button class=\"colab-df-convert\" onclick=\"convertToInteractive('df-80e9404d-86ad-4d6b-b27a-39cb825a96aa')\"\n",
              "              title=\"Convert this dataframe to an interactive table.\"\n",
              "              style=\"display:none;\">\n",
              "        \n",
              "  <svg xmlns=\"http://www.w3.org/2000/svg\" height=\"24px\"viewBox=\"0 0 24 24\"\n",
              "       width=\"24px\">\n",
              "    <path d=\"M0 0h24v24H0V0z\" fill=\"none\"/>\n",
              "    <path d=\"M18.56 5.44l.94 2.06.94-2.06 2.06-.94-2.06-.94-.94-2.06-.94 2.06-2.06.94zm-11 1L8.5 8.5l.94-2.06 2.06-.94-2.06-.94L8.5 2.5l-.94 2.06-2.06.94zm10 10l.94 2.06.94-2.06 2.06-.94-2.06-.94-.94-2.06-.94 2.06-2.06.94z\"/><path d=\"M17.41 7.96l-1.37-1.37c-.4-.4-.92-.59-1.43-.59-.52 0-1.04.2-1.43.59L10.3 9.45l-7.72 7.72c-.78.78-.78 2.05 0 2.83L4 21.41c.39.39.9.59 1.41.59.51 0 1.02-.2 1.41-.59l7.78-7.78 2.81-2.81c.8-.78.8-2.07 0-2.86zM5.41 20L4 18.59l7.72-7.72 1.47 1.35L5.41 20z\"/>\n",
              "  </svg>\n",
              "      </button>\n",
              "      \n",
              "  <style>\n",
              "    .colab-df-container {\n",
              "      display:flex;\n",
              "      flex-wrap:wrap;\n",
              "      gap: 12px;\n",
              "    }\n",
              "\n",
              "    .colab-df-convert {\n",
              "      background-color: #E8F0FE;\n",
              "      border: none;\n",
              "      border-radius: 50%;\n",
              "      cursor: pointer;\n",
              "      display: none;\n",
              "      fill: #1967D2;\n",
              "      height: 32px;\n",
              "      padding: 0 0 0 0;\n",
              "      width: 32px;\n",
              "    }\n",
              "\n",
              "    .colab-df-convert:hover {\n",
              "      background-color: #E2EBFA;\n",
              "      box-shadow: 0px 1px 2px rgba(60, 64, 67, 0.3), 0px 1px 3px 1px rgba(60, 64, 67, 0.15);\n",
              "      fill: #174EA6;\n",
              "    }\n",
              "\n",
              "    [theme=dark] .colab-df-convert {\n",
              "      background-color: #3B4455;\n",
              "      fill: #D2E3FC;\n",
              "    }\n",
              "\n",
              "    [theme=dark] .colab-df-convert:hover {\n",
              "      background-color: #434B5C;\n",
              "      box-shadow: 0px 1px 3px 1px rgba(0, 0, 0, 0.15);\n",
              "      filter: drop-shadow(0px 1px 2px rgba(0, 0, 0, 0.3));\n",
              "      fill: #FFFFFF;\n",
              "    }\n",
              "  </style>\n",
              "\n",
              "      <script>\n",
              "        const buttonEl =\n",
              "          document.querySelector('#df-80e9404d-86ad-4d6b-b27a-39cb825a96aa button.colab-df-convert');\n",
              "        buttonEl.style.display =\n",
              "          google.colab.kernel.accessAllowed ? 'block' : 'none';\n",
              "\n",
              "        async function convertToInteractive(key) {\n",
              "          const element = document.querySelector('#df-80e9404d-86ad-4d6b-b27a-39cb825a96aa');\n",
              "          const dataTable =\n",
              "            await google.colab.kernel.invokeFunction('convertToInteractive',\n",
              "                                                     [key], {});\n",
              "          if (!dataTable) return;\n",
              "\n",
              "          const docLinkHtml = 'Like what you see? Visit the ' +\n",
              "            '<a target=\"_blank\" href=https://colab.research.google.com/notebooks/data_table.ipynb>data table notebook</a>'\n",
              "            + ' to learn more about interactive tables.';\n",
              "          element.innerHTML = '';\n",
              "          dataTable['output_type'] = 'display_data';\n",
              "          await google.colab.output.renderOutput(dataTable, element);\n",
              "          const docLink = document.createElement('div');\n",
              "          docLink.innerHTML = docLinkHtml;\n",
              "          element.appendChild(docLink);\n",
              "        }\n",
              "      </script>\n",
              "    </div>\n",
              "  </div>\n",
              "  "
            ]
          },
          "metadata": {},
          "execution_count": 1
        }
      ],
      "source": [
        "import pandas as pd\n",
        "import numpy as np\n",
        "df = pd.read_csv('dataset4.csv')\n",
        "df\n"
      ]
    },
    {
      "cell_type": "markdown",
      "source": [
        "# 新段落"
      ],
      "metadata": {
        "id": "Xh0UVx5BwOXp"
      }
    },
    {
      "cell_type": "code",
      "source": [
        "!pip install keras-tuner"
      ],
      "metadata": {
        "colab": {
          "base_uri": "https://localhost:8080/"
        },
        "id": "-971I-6whZ11",
        "outputId": "cae40fa6-f7a1-4fc6-9b27-73bb0589b9b5"
      },
      "execution_count": 2,
      "outputs": [
        {
          "output_type": "stream",
          "name": "stdout",
          "text": [
            "Looking in indexes: https://pypi.org/simple, https://us-python.pkg.dev/colab-wheels/public/simple/\n",
            "Requirement already satisfied: keras-tuner in /usr/local/lib/python3.8/dist-packages (1.1.3)\n",
            "Requirement already satisfied: numpy in /usr/local/lib/python3.8/dist-packages (from keras-tuner) (1.21.6)\n",
            "Requirement already satisfied: kt-legacy in /usr/local/lib/python3.8/dist-packages (from keras-tuner) (1.0.4)\n",
            "Requirement already satisfied: ipython in /usr/local/lib/python3.8/dist-packages (from keras-tuner) (7.9.0)\n",
            "Requirement already satisfied: packaging in /usr/local/lib/python3.8/dist-packages (from keras-tuner) (21.3)\n",
            "Requirement already satisfied: requests in /usr/local/lib/python3.8/dist-packages (from keras-tuner) (2.23.0)\n",
            "Requirement already satisfied: tensorboard in /usr/local/lib/python3.8/dist-packages (from keras-tuner) (2.9.1)\n",
            "Requirement already satisfied: decorator in /usr/local/lib/python3.8/dist-packages (from ipython->keras-tuner) (4.4.2)\n",
            "Requirement already satisfied: prompt-toolkit<2.1.0,>=2.0.0 in /usr/local/lib/python3.8/dist-packages (from ipython->keras-tuner) (2.0.10)\n",
            "Requirement already satisfied: setuptools>=18.5 in /usr/local/lib/python3.8/dist-packages (from ipython->keras-tuner) (57.4.0)\n",
            "Requirement already satisfied: pickleshare in /usr/local/lib/python3.8/dist-packages (from ipython->keras-tuner) (0.7.5)\n",
            "Requirement already satisfied: jedi>=0.10 in /usr/local/lib/python3.8/dist-packages (from ipython->keras-tuner) (0.18.2)\n",
            "Requirement already satisfied: traitlets>=4.2 in /usr/local/lib/python3.8/dist-packages (from ipython->keras-tuner) (5.6.0)\n",
            "Requirement already satisfied: backcall in /usr/local/lib/python3.8/dist-packages (from ipython->keras-tuner) (0.2.0)\n",
            "Requirement already satisfied: pygments in /usr/local/lib/python3.8/dist-packages (from ipython->keras-tuner) (2.6.1)\n",
            "Requirement already satisfied: pexpect in /usr/local/lib/python3.8/dist-packages (from ipython->keras-tuner) (4.8.0)\n",
            "Requirement already satisfied: parso<0.9.0,>=0.8.0 in /usr/local/lib/python3.8/dist-packages (from jedi>=0.10->ipython->keras-tuner) (0.8.3)\n",
            "Requirement already satisfied: six>=1.9.0 in /usr/local/lib/python3.8/dist-packages (from prompt-toolkit<2.1.0,>=2.0.0->ipython->keras-tuner) (1.15.0)\n",
            "Requirement already satisfied: wcwidth in /usr/local/lib/python3.8/dist-packages (from prompt-toolkit<2.1.0,>=2.0.0->ipython->keras-tuner) (0.2.5)\n",
            "Requirement already satisfied: pyparsing!=3.0.5,>=2.0.2 in /usr/local/lib/python3.8/dist-packages (from packaging->keras-tuner) (3.0.9)\n",
            "Requirement already satisfied: ptyprocess>=0.5 in /usr/local/lib/python3.8/dist-packages (from pexpect->ipython->keras-tuner) (0.7.0)\n",
            "Requirement already satisfied: certifi>=2017.4.17 in /usr/local/lib/python3.8/dist-packages (from requests->keras-tuner) (2022.9.24)\n",
            "Requirement already satisfied: idna<3,>=2.5 in /usr/local/lib/python3.8/dist-packages (from requests->keras-tuner) (2.10)\n",
            "Requirement already satisfied: chardet<4,>=3.0.2 in /usr/local/lib/python3.8/dist-packages (from requests->keras-tuner) (3.0.4)\n",
            "Requirement already satisfied: urllib3!=1.25.0,!=1.25.1,<1.26,>=1.21.1 in /usr/local/lib/python3.8/dist-packages (from requests->keras-tuner) (1.24.3)\n",
            "Requirement already satisfied: protobuf<3.20,>=3.9.2 in /usr/local/lib/python3.8/dist-packages (from tensorboard->keras-tuner) (3.19.6)\n",
            "Requirement already satisfied: werkzeug>=1.0.1 in /usr/local/lib/python3.8/dist-packages (from tensorboard->keras-tuner) (1.0.1)\n",
            "Requirement already satisfied: absl-py>=0.4 in /usr/local/lib/python3.8/dist-packages (from tensorboard->keras-tuner) (1.3.0)\n",
            "Requirement already satisfied: tensorboard-plugin-wit>=1.6.0 in /usr/local/lib/python3.8/dist-packages (from tensorboard->keras-tuner) (1.8.1)\n",
            "Requirement already satisfied: markdown>=2.6.8 in /usr/local/lib/python3.8/dist-packages (from tensorboard->keras-tuner) (3.4.1)\n",
            "Requirement already satisfied: google-auth-oauthlib<0.5,>=0.4.1 in /usr/local/lib/python3.8/dist-packages (from tensorboard->keras-tuner) (0.4.6)\n",
            "Requirement already satisfied: tensorboard-data-server<0.7.0,>=0.6.0 in /usr/local/lib/python3.8/dist-packages (from tensorboard->keras-tuner) (0.6.1)\n",
            "Requirement already satisfied: wheel>=0.26 in /usr/local/lib/python3.8/dist-packages (from tensorboard->keras-tuner) (0.38.4)\n",
            "Requirement already satisfied: grpcio>=1.24.3 in /usr/local/lib/python3.8/dist-packages (from tensorboard->keras-tuner) (1.51.1)\n",
            "Requirement already satisfied: google-auth<3,>=1.6.3 in /usr/local/lib/python3.8/dist-packages (from tensorboard->keras-tuner) (2.15.0)\n",
            "Requirement already satisfied: pyasn1-modules>=0.2.1 in /usr/local/lib/python3.8/dist-packages (from google-auth<3,>=1.6.3->tensorboard->keras-tuner) (0.2.8)\n",
            "Requirement already satisfied: rsa<5,>=3.1.4 in /usr/local/lib/python3.8/dist-packages (from google-auth<3,>=1.6.3->tensorboard->keras-tuner) (4.9)\n",
            "Requirement already satisfied: cachetools<6.0,>=2.0.0 in /usr/local/lib/python3.8/dist-packages (from google-auth<3,>=1.6.3->tensorboard->keras-tuner) (5.2.0)\n",
            "Requirement already satisfied: requests-oauthlib>=0.7.0 in /usr/local/lib/python3.8/dist-packages (from google-auth-oauthlib<0.5,>=0.4.1->tensorboard->keras-tuner) (1.3.1)\n",
            "Requirement already satisfied: importlib-metadata>=4.4 in /usr/local/lib/python3.8/dist-packages (from markdown>=2.6.8->tensorboard->keras-tuner) (4.13.0)\n",
            "Requirement already satisfied: zipp>=0.5 in /usr/local/lib/python3.8/dist-packages (from importlib-metadata>=4.4->markdown>=2.6.8->tensorboard->keras-tuner) (3.11.0)\n",
            "Requirement already satisfied: pyasn1<0.5.0,>=0.4.6 in /usr/local/lib/python3.8/dist-packages (from pyasn1-modules>=0.2.1->google-auth<3,>=1.6.3->tensorboard->keras-tuner) (0.4.8)\n",
            "Requirement already satisfied: oauthlib>=3.0.0 in /usr/local/lib/python3.8/dist-packages (from requests-oauthlib>=0.7.0->google-auth-oauthlib<0.5,>=0.4.1->tensorboard->keras-tuner) (3.2.2)\n"
          ]
        }
      ]
    },
    {
      "cell_type": "code",
      "source": [
        "import numpy as np\n",
        "from sklearn.model_selection import TimeSeriesSplit\n",
        "df1=df.values\n",
        "X=df1[:,1:]\n",
        "Y=df1[:,0]\n",
        "'''\n",
        "splits = TimeSeriesSplit(n_splits=10)\n",
        "\n",
        "for train_index, test_index in splits.split(X):\n",
        "    X_train, X_test = X[train_index], X[test_index]\n",
        "    Y_train, Y_test = Y[train_index], Y[test_index]\n",
        "    print('Observations: %d' % (len(X_train) + len(X_test)))\n",
        "    print('Training Observations: %d' % (len(X_train)))\n",
        "    print('Testing Observations: %d' % (len(X_test)))\n",
        "    '''"
      ],
      "metadata": {
        "colab": {
          "base_uri": "https://localhost:8080/",
          "height": 71
        },
        "id": "dWtsJStuYQMN",
        "outputId": "8d3ac645-2683-441b-81c6-e3baf40c3832"
      },
      "execution_count": 3,
      "outputs": [
        {
          "output_type": "execute_result",
          "data": {
            "text/plain": [
              "\"\\nsplits = TimeSeriesSplit(n_splits=10)\\n\\nfor train_index, test_index in splits.split(X):\\n    X_train, X_test = X[train_index], X[test_index]\\n    Y_train, Y_test = Y[train_index], Y[test_index]\\n    print('Observations: %d' % (len(X_train) + len(X_test)))\\n    print('Training Observations: %d' % (len(X_train)))\\n    print('Testing Observations: %d' % (len(X_test)))\\n    \""
            ],
            "application/vnd.google.colaboratory.intrinsic+json": {
              "type": "string"
            }
          },
          "metadata": {},
          "execution_count": 3
        }
      ]
    },
    {
      "cell_type": "code",
      "source": [
        "test_ratio=0.2\n",
        "test_size=int(len(df) * test_ratio)\n",
        "test_set=df[-test_size:]\n",
        "print(test_set)\n",
        "\n",
        "valid_ratio=0.2\n",
        "valid_size=int(len(df) * test_ratio)\n",
        "valid_set=df[-test_size-valid_size:-test_size]\n",
        "print(valid_set)\n",
        "\n",
        "train_set=df[:-test_size-valid_size]\n",
        "print(train_set)\n",
        "\n",
        "train_set1=train_set.values\n",
        "x_train=train_set1[:,1:]\n",
        "y_train=train_set1[:,0]\n",
        "\n",
        "test_set1=test_set.values\n",
        "x_test=test_set1[:,1:]\n",
        "y_test=test_set1[:,0]\n",
        "\n",
        "valid_set1=valid_set.values\n",
        "x_valid=valid_set1[:,1:]\n",
        "y_valid=valid_set1[:,0]\n",
        "'''\n",
        "from sklearn.preprocessing import StandardScaler\n",
        "from sklearn import preprocessing\n",
        "\n",
        "from sklearn.preprocessing import MinMaxScaler \n",
        "\n",
        "mms = MinMaxScaler()\n",
        "x_train= mms.fit_transform(x_train)\n",
        "\n",
        "x_test = mms.transform(x_test)\n",
        "x_valid = mms.transform(x_valid)\n",
        "'''"
      ],
      "metadata": {
        "colab": {
          "base_uri": "https://localhost:8080/",
          "height": 1000
        },
        "id": "pC1NJ3JJJow6",
        "outputId": "7cb2aabe-63a9-4986-9404-9c43f7a9aeda"
      },
      "execution_count": 3,
      "outputs": [
        {
          "output_type": "stream",
          "name": "stdout",
          "text": [
            "      target  SentimentIndex  SSMA10_-1  SSMA10_1  WWMA10_-1  WWMA10_1  \\\n",
            "1328       1       -0.099010          1         0          1         0   \n",
            "1329       1       -0.295825          1         0          1         0   \n",
            "1330       1        0.457349          1         0          1         0   \n",
            "1331       0       -0.008164          1         0          0         1   \n",
            "1332       1       -0.270636          1         0          1         0   \n",
            "...      ...             ...        ...       ...        ...       ...   \n",
            "1655       0       -0.221616          1         0          1         0   \n",
            "1656       1        0.192939          1         0          1         0   \n",
            "1657       0       -0.119951          1         0          1         0   \n",
            "1658       1       -0.013028          1         0          1         0   \n",
            "1659       0        0.134021          1         0          1         0   \n",
            "\n",
            "      MMOM_-1  MMOM_1  stochKK_-1  stochKK_1  ...  WILLRR_-1  WILLRR_1  \\\n",
            "1328        1       0           1          0  ...          0         1   \n",
            "1329        1       0           0          1  ...          0         1   \n",
            "1330        1       0           0          1  ...          0         1   \n",
            "1331        1       0           0          1  ...          1         0   \n",
            "1332        1       0           1          0  ...          0         1   \n",
            "...       ...     ...         ...        ...  ...        ...       ...   \n",
            "1655        1       0           1          0  ...          1         0   \n",
            "1656        1       0           0          1  ...          0         1   \n",
            "1657        1       0           1          0  ...          1         0   \n",
            "1658        1       0           0          1  ...          0         1   \n",
            "1659        1       0           1          0  ...          1         0   \n",
            "\n",
            "      ADXX_-1  ADXX_1  RSI1_-1  RSI1_0  RSI1_1  CCI2_-1  CCI2_0  CCI2_1  \n",
            "1328        0       1        0       0       1        0       1       0  \n",
            "1329        0       1        0       0       1        0       1       0  \n",
            "1330        0       1        0       1       0        0       1       0  \n",
            "1331        0       1        0       1       0        0       1       0  \n",
            "1332        0       1        0       1       0        0       1       0  \n",
            "...       ...     ...      ...     ...     ...      ...     ...     ...  \n",
            "1655        0       1        0       1       0        0       1       0  \n",
            "1656        1       0        0       1       0        0       1       0  \n",
            "1657        1       0        0       1       0        0       1       0  \n",
            "1658        1       0        0       1       0        0       1       0  \n",
            "1659        1       0        0       1       0        0       1       0  \n",
            "\n",
            "[332 rows x 24 columns]\n",
            "      target  SentimentIndex  SSMA10_-1  SSMA10_1  WWMA10_-1  WWMA10_1  \\\n",
            "996        1       -0.720842          1         0          0         1   \n",
            "997        0        0.087779          0         1          0         1   \n",
            "998        0       -0.497442          0         1          0         1   \n",
            "999        0       -0.505507          1         0          1         0   \n",
            "1000       1        0.087993          1         0          1         0   \n",
            "...      ...             ...        ...       ...        ...       ...   \n",
            "1323       1       -0.474122          1         0          1         0   \n",
            "1324       0       -0.056442          1         0          0         1   \n",
            "1325       0       -0.239713          1         0          1         0   \n",
            "1326       0        0.376415          1         0          1         0   \n",
            "1327       0       -0.281566          1         0          1         0   \n",
            "\n",
            "      MMOM_-1  MMOM_1  stochKK_-1  stochKK_1  ...  WILLRR_-1  WILLRR_1  \\\n",
            "996         1       0           0          1  ...          0         1   \n",
            "997         1       0           0          1  ...          1         0   \n",
            "998         1       0           0          1  ...          1         0   \n",
            "999         1       0           1          0  ...          1         0   \n",
            "1000        1       0           0          1  ...          0         1   \n",
            "...       ...     ...         ...        ...  ...        ...       ...   \n",
            "1323        1       0           0          1  ...          0         1   \n",
            "1324        1       0           1          0  ...          1         0   \n",
            "1325        1       0           0          1  ...          0         1   \n",
            "1326        1       0           1          0  ...          1         0   \n",
            "1327        1       0           0          1  ...          0         1   \n",
            "\n",
            "      ADXX_-1  ADXX_1  RSI1_-1  RSI1_0  RSI1_1  CCI2_-1  CCI2_0  CCI2_1  \n",
            "996         1       0        0       1       0        0       1       0  \n",
            "997         0       1        0       1       0        0       1       0  \n",
            "998         1       0        0       1       0        0       1       0  \n",
            "999         1       0        0       1       0        0       1       0  \n",
            "1000        0       1        0       1       0        0       1       0  \n",
            "...       ...     ...      ...     ...     ...      ...     ...     ...  \n",
            "1323        0       1        0       1       0        0       1       0  \n",
            "1324        0       1        0       1       0        0       1       0  \n",
            "1325        0       1        0       1       0        0       1       0  \n",
            "1326        0       1        0       1       0        0       1       0  \n",
            "1327        0       1        0       0       1        0       1       0  \n",
            "\n",
            "[332 rows x 24 columns]\n",
            "     target  SentimentIndex  SSMA10_-1  SSMA10_1  WWMA10_-1  WWMA10_1  \\\n",
            "0         1        0.428590          0         1          0         1   \n",
            "1         0       -0.483222          0         1          0         1   \n",
            "2         1       -1.000000          1         0          1         0   \n",
            "3         0       -0.204933          0         1          0         1   \n",
            "4         1       -1.000000          1         0          1         0   \n",
            "..      ...             ...        ...       ...        ...       ...   \n",
            "991       1        0.345365          1         0          1         0   \n",
            "992       1       -0.330374          1         0          1         0   \n",
            "993       0       -0.744883          1         0          1         0   \n",
            "994       0       -0.381498          1         0          1         0   \n",
            "995       1        0.009483          1         0          1         0   \n",
            "\n",
            "     MMOM_-1  MMOM_1  stochKK_-1  stochKK_1  ...  WILLRR_-1  WILLRR_1  \\\n",
            "0          0       1           0          1  ...          0         1   \n",
            "1          0       1           0          1  ...          1         0   \n",
            "2          1       0           0          1  ...          0         1   \n",
            "3          1       0           1          0  ...          1         0   \n",
            "4          1       0           1          0  ...          0         1   \n",
            "..       ...     ...         ...        ...  ...        ...       ...   \n",
            "991        0       1           1          0  ...          0         1   \n",
            "992        0       1           1          0  ...          0         1   \n",
            "993        0       1           1          0  ...          1         0   \n",
            "994        0       1           1          0  ...          1         0   \n",
            "995        1       0           1          0  ...          0         1   \n",
            "\n",
            "     ADXX_-1  ADXX_1  RSI1_-1  RSI1_0  RSI1_1  CCI2_-1  CCI2_0  CCI2_1  \n",
            "0          1       0        0       1       0        0       1       0  \n",
            "1          1       0        0       1       0        0       1       0  \n",
            "2          1       0        0       1       0        0       1       0  \n",
            "3          1       0        0       1       0        0       1       0  \n",
            "4          1       0        0       1       0        0       1       0  \n",
            "..       ...     ...      ...     ...     ...      ...     ...     ...  \n",
            "991        1       0        0       1       0        0       1       0  \n",
            "992        1       0        0       1       0        0       1       0  \n",
            "993        1       0        0       1       0        0       1       0  \n",
            "994        1       0        0       1       0        0       1       0  \n",
            "995        1       0        0       1       0        0       1       0  \n",
            "\n",
            "[996 rows x 24 columns]\n"
          ]
        },
        {
          "output_type": "execute_result",
          "data": {
            "text/plain": [
              "'\\nfrom sklearn.preprocessing import StandardScaler\\nfrom sklearn import preprocessing\\n\\nfrom sklearn.preprocessing import MinMaxScaler \\n\\nmms = MinMaxScaler()\\nx_train= mms.fit_transform(x_train)\\n\\nx_test = mms.transform(x_test)\\nx_valid = mms.transform(x_valid)\\n'"
            ],
            "application/vnd.google.colaboratory.intrinsic+json": {
              "type": "string"
            }
          },
          "metadata": {},
          "execution_count": 3
        }
      ]
    },
    {
      "cell_type": "code",
      "source": [
        "from sklearn.utils import shuffle\n",
        "x_train,y_train = shuffle(x_train,y_train) \n",
        "x_valid,y_valid = shuffle(x_valid,y_valid) "
      ],
      "metadata": {
        "id": "Ah9u5Bv_YB8R"
      },
      "execution_count": 4,
      "outputs": []
    },
    {
      "cell_type": "code",
      "source": [
        "x_train"
      ],
      "metadata": {
        "id": "uLEBMcwddiVv",
        "colab": {
          "base_uri": "https://localhost:8080/"
        },
        "outputId": "31d23a8c-ce84-46cd-d427-b7a6a71aa6b9"
      },
      "execution_count": 5,
      "outputs": [
        {
          "output_type": "execute_result",
          "data": {
            "text/plain": [
              "array([[-4.41173700e-01,  0.00000000e+00,  1.00000000e+00, ...,\n",
              "         0.00000000e+00,  1.00000000e+00,  0.00000000e+00],\n",
              "       [ 3.30091735e-05,  0.00000000e+00,  1.00000000e+00, ...,\n",
              "         0.00000000e+00,  1.00000000e+00,  0.00000000e+00],\n",
              "       [-2.24532547e-01,  0.00000000e+00,  1.00000000e+00, ...,\n",
              "         0.00000000e+00,  1.00000000e+00,  0.00000000e+00],\n",
              "       ...,\n",
              "       [-1.99513172e-01,  0.00000000e+00,  1.00000000e+00, ...,\n",
              "         1.00000000e+00,  0.00000000e+00,  0.00000000e+00],\n",
              "       [ 3.33095478e-01,  0.00000000e+00,  1.00000000e+00, ...,\n",
              "         0.00000000e+00,  1.00000000e+00,  0.00000000e+00],\n",
              "       [-1.43806398e-01,  1.00000000e+00,  0.00000000e+00, ...,\n",
              "         0.00000000e+00,  1.00000000e+00,  0.00000000e+00]])"
            ]
          },
          "metadata": {},
          "execution_count": 5
        }
      ]
    },
    {
      "cell_type": "code",
      "source": [
        "y_test"
      ],
      "metadata": {
        "id": "1vwrKYm_hYNk",
        "colab": {
          "base_uri": "https://localhost:8080/"
        },
        "outputId": "5025043f-9263-40ae-d363-3bf4bad370ee"
      },
      "execution_count": 6,
      "outputs": [
        {
          "output_type": "execute_result",
          "data": {
            "text/plain": [
              "array([1., 1., 1., 0., 1., 1., 1., 0., 1., 0., 0., 0., 1., 1., 1., 0., 1.,\n",
              "       1., 0., 0., 1., 0., 0., 0., 1., 0., 1., 1., 0., 1., 0., 1., 0., 1.,\n",
              "       1., 1., 0., 0., 0., 0., 1., 1., 0., 1., 1., 1., 0., 1., 0., 1., 1.,\n",
              "       1., 1., 0., 1., 1., 0., 0., 1., 0., 0., 1., 1., 0., 0., 0., 1., 1.,\n",
              "       0., 1., 1., 1., 1., 1., 0., 1., 1., 0., 1., 0., 1., 0., 0., 1., 1.,\n",
              "       0., 1., 0., 1., 0., 1., 1., 0., 0., 0., 1., 1., 0., 1., 1., 1., 0.,\n",
              "       0., 1., 1., 0., 0., 0., 0., 0., 1., 0., 0., 1., 1., 1., 0., 1., 0.,\n",
              "       0., 1., 0., 0., 1., 1., 0., 0., 1., 0., 0., 0., 0., 1., 0., 1., 0.,\n",
              "       1., 1., 0., 1., 1., 1., 0., 1., 0., 1., 0., 1., 0., 1., 1., 1., 0.,\n",
              "       0., 0., 1., 0., 0., 0., 1., 0., 1., 0., 0., 1., 0., 0., 1., 1., 0.,\n",
              "       1., 1., 1., 1., 0., 0., 0., 0., 1., 1., 1., 0., 1., 1., 1., 0., 1.,\n",
              "       0., 0., 1., 0., 0., 1., 1., 1., 0., 0., 1., 0., 1., 1., 0., 0., 0.,\n",
              "       1., 1., 0., 1., 0., 0., 1., 1., 0., 1., 0., 1., 0., 1., 0., 0., 1.,\n",
              "       0., 1., 0., 0., 0., 1., 1., 1., 1., 0., 0., 1., 0., 1., 1., 1., 0.,\n",
              "       0., 0., 0., 0., 0., 1., 1., 0., 0., 1., 1., 1., 0., 0., 1., 0., 0.,\n",
              "       0., 0., 1., 0., 1., 0., 0., 1., 0., 1., 0., 1., 0., 0., 0., 0., 0.,\n",
              "       1., 0., 0., 1., 1., 1., 0., 0., 0., 1., 1., 0., 1., 0., 1., 0., 1.,\n",
              "       1., 0., 0., 1., 1., 1., 1., 1., 0., 1., 1., 0., 1., 1., 0., 0., 1.,\n",
              "       1., 1., 1., 0., 1., 0., 1., 0., 0., 1., 0., 0., 0., 1., 1., 0., 1.,\n",
              "       0., 1., 0., 1., 0., 1., 0., 1., 0.])"
            ]
          },
          "metadata": {},
          "execution_count": 6
        }
      ]
    },
    {
      "cell_type": "code",
      "source": [
        "# 对数据处理\n",
        "#from keras.utils import np_utils\n",
        "from tensorflow.python.keras.utils import np_utils\n",
        "y_train = np_utils.to_categorical(y_train)\n",
        "y_valid = np_utils.to_categorical(y_valid)\n",
        "y_test = np_utils.to_categorical(y_test)"
      ],
      "metadata": {
        "id": "7twmwojvJrnj"
      },
      "execution_count": 7,
      "outputs": []
    },
    {
      "cell_type": "code",
      "source": [
        "print(x_train.shape)\n",
        "print(y_train.shape)\n",
        "\n",
        "print(x_valid.shape)\n",
        "print(y_valid.shape)\n",
        "print(x_test.shape)\n",
        "print(y_test.shape)"
      ],
      "metadata": {
        "colab": {
          "base_uri": "https://localhost:8080/"
        },
        "id": "AYOjG4YAJsFB",
        "outputId": "c7e3e133-23d2-47eb-815e-05f0f10511cd"
      },
      "execution_count": 8,
      "outputs": [
        {
          "output_type": "stream",
          "name": "stdout",
          "text": [
            "(996, 23)\n",
            "(996, 2)\n",
            "(332, 23)\n",
            "(332, 2)\n",
            "(332, 23)\n",
            "(332, 2)\n"
          ]
        }
      ]
    },
    {
      "cell_type": "code",
      "source": [
        "x_train = x_train.reshape((-1,1,23))\n",
        "x_valid=x_valid.reshape((-1,1,23))\n",
        "x_test = x_test.reshape((-1,1,23))"
      ],
      "metadata": {
        "id": "D4yvV8p-JvUV"
      },
      "execution_count": 9,
      "outputs": []
    },
    {
      "cell_type": "code",
      "source": [
        "print(x_train.shape)\n",
        "print(y_train.shape)\n",
        "print(x_valid.shape)\n",
        "print(y_valid.shape)\n",
        "print(x_test.shape)\n",
        "print(y_test.shape)"
      ],
      "metadata": {
        "colab": {
          "base_uri": "https://localhost:8080/"
        },
        "id": "CrK2FT18JxQT",
        "outputId": "a9101995-0397-4a16-b883-041f9f6bb750"
      },
      "execution_count": 10,
      "outputs": [
        {
          "output_type": "stream",
          "name": "stdout",
          "text": [
            "(996, 1, 23)\n",
            "(996, 2)\n",
            "(332, 1, 23)\n",
            "(332, 2)\n",
            "(332, 1, 23)\n",
            "(332, 2)\n"
          ]
        }
      ]
    },
    {
      "cell_type": "code",
      "source": [
        "import tensorflow as tf\n",
        "from tensorflow import keras\n",
        "from tensorflow.python.keras.layers.core import Dense, Dropout, Activation, Flatten\n",
        "from tensorflow.python.keras.models import Sequential\n",
        "from tensorflow.python.keras.utils import np_utils\n",
        "from kerastuner import RandomSearch\n",
        "from kerastuner.engine.hyperparameters import HyperParameters\n",
        "from tensorflow.python.keras.layers import Conv1D, MaxPooling1D\n",
        "import kerastuner as kt\n",
        "from tensorflow.python.keras import layers\n",
        "from tensorflow.python.keras.optimizers import adam_v2\n",
        "\n",
        "from tensorflow.python.keras.layers import LSTM\n",
        "#from keras.layers import LSTM,Activation,Dense,Dropout,Input,Embedding,BatchNormalization,Add,concatenate,Flatten\n"
      ],
      "metadata": {
        "id": "80WAmR0szJ7s",
        "colab": {
          "base_uri": "https://localhost:8080/"
        },
        "outputId": "6d29c4e5-4bd7-45ae-e229-64f7a845735d"
      },
      "execution_count": 11,
      "outputs": [
        {
          "output_type": "stream",
          "name": "stderr",
          "text": [
            "<ipython-input-11-976de3d7d1d7>:6: DeprecationWarning: `import kerastuner` is deprecated, please use `import keras_tuner`.\n",
            "  from kerastuner import RandomSearch\n"
          ]
        }
      ]
    },
    {
      "cell_type": "code",
      "source": [
        "from kerastuner import RandomSearch\n",
        "from kerastuner.engine.hyperparameters import HyperParameters\n",
        "from keras.layers.core import Dense, Dropout, Activation, Flatten\n",
        "from keras.models import Sequential\n",
        "from keras.utils import np_utils\n",
        "from keras.layers import Conv1D,MaxPooling1D\n",
        "import kerastuner as kt\n"
      ],
      "metadata": {
        "id": "3_2ei6TzW1h-"
      },
      "execution_count": 12,
      "outputs": []
    },
    {
      "cell_type": "code",
      "source": [
        "#CNN\n",
        "def build_model(hp):\n",
        "    model = keras.Sequential()\n",
        "    #model.add(Flatten())\n",
        "    # Tune the number of layers.\n",
        "    model.add(Conv1D(hp.Int('filter',min_value=32, max_value=512, step=32),kernel_size=1,input_shape=(1,23)))\n",
        "    model.add(Activation('tanh'))\n",
        "    model.add(MaxPooling1D(pool_size=1))\n",
        "    for i in range(hp.Int(\"num_layers\", 1, 3)):\n",
        "        model.add(Conv1D(\n",
        "                # Tune number of units separately.\n",
        "                hp.Int(f\"conv_{i}_filter\", min_value=32, max_value=512, step=32),\n",
        "                kernel_size=1\n",
        "                \n",
        "            ))\n",
        "        model.add(Activation('tanh')\n",
        "        )\n",
        "    #if hp.Boolean(\"dropout\"):\n",
        "    model.add(layers.Dropout(hp.Float(\"dropout\",min_value=0,max_value=0.5,step=0.1)))\n",
        "        #model.add(layers.Dropout(rate=0.2))\n",
        "    model.add(Flatten())\n",
        "    model.add(Dense(2,activation=\"softmax\"))\n",
        "    learning_rate = hp.Float(\"lr\",min_value=1e-4, max_value=1e-2,sampling=\"log\")\n",
        "    model.compile(\n",
        "        optimizer=keras.optimizers.Adam(learning_rate=learning_rate),\n",
        "        loss=\"categorical_crossentropy\",\n",
        "        metrics=[\"accuracy\"],\n",
        "    )\n",
        "    return model\n",
        "\n",
        "\n",
        "build_model(kt.HyperParameters())"
      ],
      "metadata": {
        "id": "9ovNRWSam9vN",
        "colab": {
          "base_uri": "https://localhost:8080/"
        },
        "outputId": "c836623f-fbe2-4c99-aab4-991a9f2784c8"
      },
      "execution_count": 14,
      "outputs": [
        {
          "output_type": "execute_result",
          "data": {
            "text/plain": [
              "<keras.engine.sequential.Sequential at 0x7f0fc1f3e6a0>"
            ]
          },
          "metadata": {},
          "execution_count": 14
        }
      ]
    },
    {
      "cell_type": "code",
      "source": [
        "tuner = kt.RandomSearch(\n",
        "    hypermodel=build_model,\n",
        "    objective=\"val_accuracy\",\n",
        "    max_trials=1,\n",
        "    executions_per_trial=1,\n",
        "    overwrite=True,\n",
        "    directory=\"my_dir\",\n",
        "    project_name=\"test\",\n",
        ")"
      ],
      "metadata": {
        "id": "P0uiydoKrTQF"
      },
      "execution_count": 15,
      "outputs": []
    },
    {
      "cell_type": "code",
      "source": [
        "tuner.search_space_summary()"
      ],
      "metadata": {
        "colab": {
          "base_uri": "https://localhost:8080/"
        },
        "id": "8OnsK-EFrZwQ",
        "outputId": "ae839b4a-756f-47b1-de22-4f39cb60d483"
      },
      "execution_count": 16,
      "outputs": [
        {
          "output_type": "stream",
          "name": "stdout",
          "text": [
            "Search space summary\n",
            "Default search space size: 5\n",
            "filter (Int)\n",
            "{'default': None, 'conditions': [], 'min_value': 32, 'max_value': 512, 'step': 32, 'sampling': None}\n",
            "num_layers (Int)\n",
            "{'default': None, 'conditions': [], 'min_value': 1, 'max_value': 3, 'step': 1, 'sampling': None}\n",
            "conv_0_filter (Int)\n",
            "{'default': None, 'conditions': [], 'min_value': 32, 'max_value': 512, 'step': 32, 'sampling': None}\n",
            "dropout (Float)\n",
            "{'default': 0.0, 'conditions': [], 'min_value': 0.0, 'max_value': 0.5, 'step': 0.1, 'sampling': None}\n",
            "lr (Float)\n",
            "{'default': 0.0001, 'conditions': [], 'min_value': 0.0001, 'max_value': 0.01, 'step': None, 'sampling': 'log'}\n"
          ]
        }
      ]
    },
    {
      "cell_type": "code",
      "source": [
        "X_valid = tf.cast(x_valid,tf.float32)\n",
        "Y_valid = tf.cast(y_valid,tf.float32)\n",
        "X_train = tf.cast(x_train,tf.float32)\n",
        "Y_train = tf.cast(y_train,tf.float32)"
      ],
      "metadata": {
        "id": "xxqIROXsD9sc"
      },
      "execution_count": 17,
      "outputs": []
    },
    {
      "cell_type": "code",
      "source": [
        "from keras.callbacks import ModelCheckpoint, EarlyStopping\n",
        "callbacks=[\n",
        "            EarlyStopping(monitor='val_loss', patience=10),\n",
        "            ModelCheckpoint(\n",
        "                'best.model', \n",
        "                monitor='val_loss',\n",
        "                save_best_only=True,\n",
        "                verbose=1\n",
        "            )\n",
        "        ]"
      ],
      "metadata": {
        "id": "YwjfbBxgp6IA"
      },
      "execution_count": 18,
      "outputs": []
    },
    {
      "cell_type": "code",
      "source": [
        "#stop_early = tf.keras.callbacks.EarlyStopping(monitor='val_loss',patience=10)\n",
        "tuner.search(X_train,Y_train,epochs=300,batch_size=64,validation_data=(X_valid,Y_valid),callbacks=[callbacks])"
      ],
      "metadata": {
        "id": "4H20kM2CrfdK"
      },
      "execution_count": 31,
      "outputs": []
    },
    {
      "cell_type": "code",
      "source": [
        "!pip install scikit-optimize"
      ],
      "metadata": {
        "colab": {
          "base_uri": "https://localhost:8080/"
        },
        "id": "Sg9kw5GquOrY",
        "outputId": "4c78d1c2-ce78-4744-8fa3-2708b02cc4d3"
      },
      "execution_count": 32,
      "outputs": [
        {
          "output_type": "stream",
          "name": "stdout",
          "text": [
            "Looking in indexes: https://pypi.org/simple, https://us-python.pkg.dev/colab-wheels/public/simple/\n",
            "Requirement already satisfied: scikit-optimize in /usr/local/lib/python3.8/dist-packages (0.9.0)\n",
            "Requirement already satisfied: pyaml>=16.9 in /usr/local/lib/python3.8/dist-packages (from scikit-optimize) (21.10.1)\n",
            "Requirement already satisfied: scipy>=0.19.1 in /usr/local/lib/python3.8/dist-packages (from scikit-optimize) (1.7.3)\n",
            "Requirement already satisfied: numpy>=1.13.3 in /usr/local/lib/python3.8/dist-packages (from scikit-optimize) (1.21.6)\n",
            "Requirement already satisfied: scikit-learn>=0.20.0 in /usr/local/lib/python3.8/dist-packages (from scikit-optimize) (1.0.2)\n",
            "Requirement already satisfied: joblib>=0.11 in /usr/local/lib/python3.8/dist-packages (from scikit-optimize) (1.2.0)\n",
            "Requirement already satisfied: PyYAML in /usr/local/lib/python3.8/dist-packages (from pyaml>=16.9->scikit-optimize) (6.0)\n",
            "Requirement already satisfied: threadpoolctl>=2.0.0 in /usr/local/lib/python3.8/dist-packages (from scikit-learn>=0.20.0->scikit-optimize) (3.1.0)\n"
          ]
        }
      ]
    },
    {
      "cell_type": "code",
      "source": [
        "import skopt\n",
        "from skopt import gp_minimize\n",
        "from sklearn.metrics import accuracy_score"
      ],
      "metadata": {
        "id": "Q-Z7d6NhuE9x"
      },
      "execution_count": 21,
      "outputs": []
    },
    {
      "cell_type": "code",
      "source": [
        "stop_early = tf.keras.callbacks.EarlyStopping(monitor='val_loss',patience=10)\n",
        "best_hps = tuner.get_best_hyperparameters(num_trials=1)[0]\n",
        "model = tuner.hypermodel.build(best_hps)\n",
        "model.fit(X_train,Y_train,epochs=300,batch_size=64,validation_data=(X_valid,Y_valid),callbacks=[stop_early])"
      ],
      "metadata": {
        "colab": {
          "base_uri": "https://localhost:8080/"
        },
        "id": "3WsXVUBIxjfo",
        "outputId": "a6c25ef8-f550-4a16-c704-55c3934ec032"
      },
      "execution_count": 33,
      "outputs": [
        {
          "output_type": "stream",
          "name": "stdout",
          "text": [
            "Epoch 1/300\n",
            "16/16 [==============================] - 1s 25ms/step - loss: 0.4975 - accuracy: 0.7500 - val_loss: 0.3200 - val_accuracy: 0.8886\n",
            "Epoch 2/300\n",
            "16/16 [==============================] - 0s 10ms/step - loss: 0.2998 - accuracy: 0.8795 - val_loss: 0.2834 - val_accuracy: 0.8825\n",
            "Epoch 3/300\n",
            "16/16 [==============================] - 0s 12ms/step - loss: 0.2797 - accuracy: 0.8805 - val_loss: 0.2945 - val_accuracy: 0.8705\n",
            "Epoch 4/300\n",
            "16/16 [==============================] - 0s 9ms/step - loss: 0.2682 - accuracy: 0.8825 - val_loss: 0.2752 - val_accuracy: 0.8916\n",
            "Epoch 5/300\n",
            "16/16 [==============================] - 0s 8ms/step - loss: 0.2570 - accuracy: 0.8835 - val_loss: 0.2819 - val_accuracy: 0.8946\n",
            "Epoch 6/300\n",
            "16/16 [==============================] - 0s 7ms/step - loss: 0.2746 - accuracy: 0.8825 - val_loss: 0.2876 - val_accuracy: 0.8795\n",
            "Epoch 7/300\n",
            "16/16 [==============================] - 0s 11ms/step - loss: 0.2618 - accuracy: 0.8865 - val_loss: 0.2768 - val_accuracy: 0.8946\n",
            "Epoch 8/300\n",
            "16/16 [==============================] - 0s 14ms/step - loss: 0.2622 - accuracy: 0.8906 - val_loss: 0.2724 - val_accuracy: 0.9006\n",
            "Epoch 9/300\n",
            "16/16 [==============================] - 0s 10ms/step - loss: 0.2504 - accuracy: 0.8855 - val_loss: 0.2744 - val_accuracy: 0.8946\n",
            "Epoch 10/300\n",
            "16/16 [==============================] - 0s 8ms/step - loss: 0.2577 - accuracy: 0.8906 - val_loss: 0.2833 - val_accuracy: 0.8765\n",
            "Epoch 11/300\n",
            "16/16 [==============================] - 0s 8ms/step - loss: 0.2479 - accuracy: 0.8986 - val_loss: 0.2701 - val_accuracy: 0.8946\n",
            "Epoch 12/300\n",
            "16/16 [==============================] - 0s 8ms/step - loss: 0.2440 - accuracy: 0.8946 - val_loss: 0.2728 - val_accuracy: 0.8886\n",
            "Epoch 13/300\n",
            "16/16 [==============================] - 0s 8ms/step - loss: 0.2529 - accuracy: 0.8926 - val_loss: 0.2696 - val_accuracy: 0.8946\n",
            "Epoch 14/300\n",
            "16/16 [==============================] - 0s 11ms/step - loss: 0.2581 - accuracy: 0.8865 - val_loss: 0.2779 - val_accuracy: 0.8765\n",
            "Epoch 15/300\n",
            "16/16 [==============================] - 0s 11ms/step - loss: 0.2423 - accuracy: 0.8926 - val_loss: 0.2703 - val_accuracy: 0.9006\n",
            "Epoch 16/300\n",
            "16/16 [==============================] - 0s 13ms/step - loss: 0.2410 - accuracy: 0.8986 - val_loss: 0.2675 - val_accuracy: 0.8946\n",
            "Epoch 17/300\n",
            "16/16 [==============================] - 0s 11ms/step - loss: 0.2525 - accuracy: 0.8956 - val_loss: 0.2663 - val_accuracy: 0.9006\n",
            "Epoch 18/300\n",
            "16/16 [==============================] - 0s 12ms/step - loss: 0.2479 - accuracy: 0.9006 - val_loss: 0.2696 - val_accuracy: 0.9006\n",
            "Epoch 19/300\n",
            "16/16 [==============================] - 0s 11ms/step - loss: 0.2392 - accuracy: 0.8966 - val_loss: 0.2658 - val_accuracy: 0.8916\n",
            "Epoch 20/300\n",
            "16/16 [==============================] - 0s 17ms/step - loss: 0.2352 - accuracy: 0.8976 - val_loss: 0.2680 - val_accuracy: 0.8855\n",
            "Epoch 21/300\n",
            "16/16 [==============================] - 0s 21ms/step - loss: 0.2435 - accuracy: 0.8906 - val_loss: 0.2651 - val_accuracy: 0.9036\n",
            "Epoch 22/300\n",
            "16/16 [==============================] - 0s 22ms/step - loss: 0.2467 - accuracy: 0.8906 - val_loss: 0.2694 - val_accuracy: 0.9006\n",
            "Epoch 23/300\n",
            "16/16 [==============================] - 0s 30ms/step - loss: 0.2399 - accuracy: 0.8916 - val_loss: 0.2669 - val_accuracy: 0.9006\n",
            "Epoch 24/300\n",
            "16/16 [==============================] - 0s 26ms/step - loss: 0.2425 - accuracy: 0.8845 - val_loss: 0.2729 - val_accuracy: 0.8976\n",
            "Epoch 25/300\n",
            "16/16 [==============================] - 0s 23ms/step - loss: 0.2383 - accuracy: 0.8976 - val_loss: 0.2707 - val_accuracy: 0.9066\n",
            "Epoch 26/300\n",
            "16/16 [==============================] - 0s 21ms/step - loss: 0.2399 - accuracy: 0.8966 - val_loss: 0.2640 - val_accuracy: 0.9006\n",
            "Epoch 27/300\n",
            "16/16 [==============================] - 0s 26ms/step - loss: 0.2420 - accuracy: 0.8906 - val_loss: 0.2625 - val_accuracy: 0.9006\n",
            "Epoch 28/300\n",
            "16/16 [==============================] - 0s 20ms/step - loss: 0.2338 - accuracy: 0.8956 - val_loss: 0.2664 - val_accuracy: 0.9006\n",
            "Epoch 29/300\n",
            "16/16 [==============================] - 0s 20ms/step - loss: 0.2479 - accuracy: 0.8906 - val_loss: 0.2652 - val_accuracy: 0.9006\n",
            "Epoch 30/300\n",
            "16/16 [==============================] - 0s 16ms/step - loss: 0.2376 - accuracy: 0.8936 - val_loss: 0.2641 - val_accuracy: 0.9006\n",
            "Epoch 31/300\n",
            "16/16 [==============================] - 0s 16ms/step - loss: 0.2355 - accuracy: 0.9036 - val_loss: 0.2598 - val_accuracy: 0.9006\n",
            "Epoch 32/300\n",
            "16/16 [==============================] - 0s 16ms/step - loss: 0.2400 - accuracy: 0.8896 - val_loss: 0.2641 - val_accuracy: 0.9006\n",
            "Epoch 33/300\n",
            "16/16 [==============================] - 0s 14ms/step - loss: 0.2343 - accuracy: 0.8956 - val_loss: 0.2675 - val_accuracy: 0.8886\n",
            "Epoch 34/300\n",
            "16/16 [==============================] - 0s 17ms/step - loss: 0.2389 - accuracy: 0.8936 - val_loss: 0.2751 - val_accuracy: 0.9006\n",
            "Epoch 35/300\n",
            "16/16 [==============================] - 0s 17ms/step - loss: 0.2415 - accuracy: 0.8886 - val_loss: 0.2598 - val_accuracy: 0.9006\n",
            "Epoch 36/300\n",
            "16/16 [==============================] - 0s 14ms/step - loss: 0.2378 - accuracy: 0.8936 - val_loss: 0.2616 - val_accuracy: 0.8795\n",
            "Epoch 37/300\n",
            "16/16 [==============================] - 0s 19ms/step - loss: 0.2324 - accuracy: 0.8946 - val_loss: 0.2599 - val_accuracy: 0.9006\n",
            "Epoch 38/300\n",
            "16/16 [==============================] - 0s 15ms/step - loss: 0.2172 - accuracy: 0.9086 - val_loss: 0.2529 - val_accuracy: 0.8976\n",
            "Epoch 39/300\n",
            "16/16 [==============================] - 0s 19ms/step - loss: 0.2314 - accuracy: 0.8926 - val_loss: 0.2587 - val_accuracy: 0.8916\n",
            "Epoch 40/300\n",
            "16/16 [==============================] - 0s 18ms/step - loss: 0.2225 - accuracy: 0.8956 - val_loss: 0.2628 - val_accuracy: 0.9036\n",
            "Epoch 41/300\n",
            "16/16 [==============================] - 0s 21ms/step - loss: 0.2200 - accuracy: 0.8976 - val_loss: 0.2617 - val_accuracy: 0.9006\n",
            "Epoch 42/300\n",
            "16/16 [==============================] - 0s 17ms/step - loss: 0.2331 - accuracy: 0.8916 - val_loss: 0.2672 - val_accuracy: 0.8976\n",
            "Epoch 43/300\n",
            "16/16 [==============================] - 0s 24ms/step - loss: 0.2384 - accuracy: 0.8936 - val_loss: 0.2555 - val_accuracy: 0.9006\n",
            "Epoch 44/300\n",
            "16/16 [==============================] - 0s 13ms/step - loss: 0.2341 - accuracy: 0.8986 - val_loss: 0.2615 - val_accuracy: 0.9006\n",
            "Epoch 45/300\n",
            "16/16 [==============================] - 0s 19ms/step - loss: 0.2311 - accuracy: 0.8946 - val_loss: 0.2716 - val_accuracy: 0.8976\n",
            "Epoch 46/300\n",
            "16/16 [==============================] - 0s 31ms/step - loss: 0.2233 - accuracy: 0.8986 - val_loss: 0.2629 - val_accuracy: 0.8765\n",
            "Epoch 47/300\n",
            "16/16 [==============================] - 0s 21ms/step - loss: 0.2375 - accuracy: 0.9006 - val_loss: 0.2641 - val_accuracy: 0.8916\n",
            "Epoch 48/300\n",
            "16/16 [==============================] - 0s 14ms/step - loss: 0.2224 - accuracy: 0.9026 - val_loss: 0.2623 - val_accuracy: 0.9006\n"
          ]
        },
        {
          "output_type": "execute_result",
          "data": {
            "text/plain": [
              "<keras.callbacks.History at 0x7f0fbd1cad60>"
            ]
          },
          "metadata": {},
          "execution_count": 33
        }
      ]
    },
    {
      "cell_type": "code",
      "source": [
        "eval_result = model.evaluate(x_test, y_test)\n",
        "print(\"[test loss, test accuracy]:\", eval_result)"
      ],
      "metadata": {
        "colab": {
          "base_uri": "https://localhost:8080/"
        },
        "id": "qKxrC88dypG2",
        "outputId": "9106b9a7-5cec-48c0-b7f7-e0a9e7611749"
      },
      "execution_count": 34,
      "outputs": [
        {
          "output_type": "stream",
          "name": "stdout",
          "text": [
            "11/11 [==============================] - 0s 7ms/step - loss: 0.2472 - accuracy: 0.9066\n",
            "[test loss, test accuracy]: [0.24718686938285828, 0.9066265225410461]\n"
          ]
        }
      ]
    },
    {
      "cell_type": "code",
      "source": [
        "tuner.results_summary()"
      ],
      "metadata": {
        "id": "OmiDEVfCvdpt",
        "colab": {
          "base_uri": "https://localhost:8080/"
        },
        "outputId": "af795338-cbf4-49be-e31d-6ea02dbccba9"
      },
      "execution_count": 35,
      "outputs": [
        {
          "output_type": "stream",
          "name": "stdout",
          "text": [
            "Results summary\n",
            "Results in my_dir/test\n",
            "Showing 10 best trials\n",
            "<keras_tuner.engine.objective.Objective object at 0x7f0fc2e6f3d0>\n",
            "Trial summary\n",
            "Hyperparameters:\n",
            "filter: 320\n",
            "num_layers: 3\n",
            "conv_0_filter: 192\n",
            "dropout: 0.5\n",
            "lr: 0.00046633375021358785\n",
            "conv_1_filter: 32\n",
            "conv_2_filter: 32\n",
            "Score: 0.9066265225410461\n"
          ]
        }
      ]
    },
    {
      "cell_type": "code",
      "source": [
        "#LSTM\n",
        "def model_builder(hp):\n",
        "  model = keras.Sequential()\n",
        "  #model.add(keras.layers.Flatten()\n",
        "  model.add(Flatten()) \n",
        "  # Tune the number of units in the first Dense layer\n",
        "  # Choose an optimal value between 32-512\n",
        "  #input_shape=(1,22)\n",
        "  hp_units = hp.Int('units', min_value=32, max_value=512, step=32)\n",
        "  model.add(keras.layers.LSTM(units=hp_units,kernel_initializer='random_uniform',activation='tanh',input_shape=(x_train.shape[1:]),return_sequences=True))\n",
        "  for i in range(hp.Int(\"num_layers\", 1, 3)):\n",
        "        model.add(LSTM(\n",
        "                # Tune number of units separately.\n",
        "                hp.Int(f\"lstm_{i}_units\", min_value=32, max_value=512, step=32),\n",
        "                kernel_initializer='random_uniform'\n",
        "                ))\n",
        "        model.add(Activation('tanh')\n",
        "        )\n",
        "  model.add(Flatten())      \n",
        "  #if hp.Boolean(\"dropout\"):\n",
        "        #model.add(layers.Dropout(rate=0.2))\n",
        "  model.add(layers.Dropout(hp.Float(\"dropout\",min_value=0,max_value=0.5,step=0.1)))\n",
        "  \n",
        "  #model.add(keras.layers.Flatten())\n",
        "  model.add(keras.layers.Dense(2,activation='softmax'))\n",
        "\n",
        "  # Tune the learning rate for the optimizer\n",
        "  # Choose an optimal value from 0.01, 0.001, or 0.0001\n",
        "  hp_learning_rate = hp.Choice('learning_rate', values=[1e-2, 1e-3, 1e-4])\n",
        "  optimizer=keras.optimizers.Adam\n",
        "  model.compile(optimizer=keras.optimizers.Adam(learning_rate=hp_learning_rate),\n",
        "                loss=keras.losses.categorical_crossentropy,\n",
        "                metrics=['accuracy'])\n",
        "\n",
        "  return model"
      ],
      "metadata": {
        "id": "7CQ-gw1EWUYi"
      },
      "execution_count": 49,
      "outputs": []
    },
    {
      "cell_type": "code",
      "source": [
        "tuner = kt.RandomSearch(\n",
        "    hypermodel=build_model,\n",
        "    objective=\"val_accuracy\",\n",
        "    max_trials=1,\n",
        "    executions_per_trial=1,\n",
        "    overwrite=True,\n",
        "    directory=\"my_lstm\",\n",
        "    project_name=\"test\")"
      ],
      "metadata": {
        "id": "BnUEGOzrnyxO"
      },
      "execution_count": 50,
      "outputs": []
    },
    {
      "cell_type": "code",
      "source": [
        "from keras.callbacks import ModelCheckpoint, EarlyStopping\n",
        "callbacks=[\n",
        "            EarlyStopping(monitor='val_loss', patience=10),\n",
        "            ModelCheckpoint(\n",
        "                'best.model', \n",
        "                monitor='val_loss',\n",
        "                save_best_only=True,\n",
        "                verbose=1\n",
        "            )\n",
        "        ]"
      ],
      "metadata": {
        "id": "8itB1Sn8uM6T"
      },
      "execution_count": 51,
      "outputs": []
    },
    {
      "cell_type": "code",
      "source": [
        "stop_early = tf.keras.callbacks.EarlyStopping(monitor='val_loss',patience=10)\n",
        "tuner.search(X_train,Y_train,epochs=300,batch_size=32,validation_data=(X_valid,Y_valid),callbacks=[callbacks])"
      ],
      "metadata": {
        "colab": {
          "base_uri": "https://localhost:8080/"
        },
        "id": "aXLppUGSn73J",
        "outputId": "82302e80-c123-433a-db37-bc1e6e2e9617"
      },
      "execution_count": 52,
      "outputs": [
        {
          "output_type": "stream",
          "name": "stdout",
          "text": [
            "Trial 1 Complete [00h 00m 19s]\n",
            "val_accuracy: 0.9066265225410461\n",
            "\n",
            "Best val_accuracy So Far: 0.9066265225410461\n",
            "Total elapsed time: 00h 00m 19s\n"
          ]
        }
      ]
    },
    {
      "cell_type": "code",
      "source": [
        "tuner.results_summary()"
      ],
      "metadata": {
        "colab": {
          "base_uri": "https://localhost:8080/"
        },
        "id": "p2SmcqK1oYgT",
        "outputId": "4ab48863-fabb-4985-b047-e32772019b27"
      },
      "execution_count": 53,
      "outputs": [
        {
          "output_type": "stream",
          "name": "stdout",
          "text": [
            "Results summary\n",
            "Results in my_lstm/test\n",
            "Showing 10 best trials\n",
            "<keras_tuner.engine.objective.Objective object at 0x7f0fb767f430>\n",
            "Trial summary\n",
            "Hyperparameters:\n",
            "filter: 384\n",
            "num_layers: 3\n",
            "conv_0_filter: 96\n",
            "dropout: 0.4\n",
            "lr: 0.00026679699283911065\n",
            "conv_1_filter: 32\n",
            "conv_2_filter: 32\n",
            "Score: 0.9066265225410461\n"
          ]
        }
      ]
    },
    {
      "cell_type": "code",
      "source": [
        "best_hps = tuner.get_best_hyperparameters(num_trials=1)[0]\n",
        "model = tuner.hypermodel.build(best_hps)\n",
        "model.fit(X_train,Y_train,epochs=300,batch_size=32,validation_data=(X_valid,Y_valid),callbacks=[stop_early])"
      ],
      "metadata": {
        "colab": {
          "base_uri": "https://localhost:8080/"
        },
        "id": "ip0PGhhwojD3",
        "outputId": "352523a0-1ae8-4fa1-9061-805a8f743057"
      },
      "execution_count": 54,
      "outputs": [
        {
          "output_type": "stream",
          "name": "stdout",
          "text": [
            "Epoch 1/300\n",
            "32/32 [==============================] - 2s 20ms/step - loss: 0.5665 - accuracy: 0.6898 - val_loss: 0.4040 - val_accuracy: 0.8765\n",
            "Epoch 2/300\n",
            "32/32 [==============================] - 0s 8ms/step - loss: 0.3345 - accuracy: 0.8825 - val_loss: 0.2985 - val_accuracy: 0.8765\n",
            "Epoch 3/300\n",
            "32/32 [==============================] - 0s 10ms/step - loss: 0.2800 - accuracy: 0.8906 - val_loss: 0.2932 - val_accuracy: 0.8765\n",
            "Epoch 4/300\n",
            "32/32 [==============================] - 0s 9ms/step - loss: 0.2544 - accuracy: 0.8916 - val_loss: 0.2851 - val_accuracy: 0.8855\n",
            "Epoch 5/300\n",
            "32/32 [==============================] - 0s 8ms/step - loss: 0.2499 - accuracy: 0.8926 - val_loss: 0.2836 - val_accuracy: 0.8916\n",
            "Epoch 6/300\n",
            "32/32 [==============================] - 0s 8ms/step - loss: 0.2535 - accuracy: 0.8855 - val_loss: 0.2816 - val_accuracy: 0.8976\n",
            "Epoch 7/300\n",
            "32/32 [==============================] - 0s 9ms/step - loss: 0.2484 - accuracy: 0.8916 - val_loss: 0.2773 - val_accuracy: 0.8946\n",
            "Epoch 8/300\n",
            "32/32 [==============================] - 0s 8ms/step - loss: 0.2563 - accuracy: 0.8906 - val_loss: 0.2814 - val_accuracy: 0.8765\n",
            "Epoch 9/300\n",
            "32/32 [==============================] - 0s 7ms/step - loss: 0.2495 - accuracy: 0.8946 - val_loss: 0.2828 - val_accuracy: 0.8855\n",
            "Epoch 10/300\n",
            "32/32 [==============================] - 0s 7ms/step - loss: 0.2523 - accuracy: 0.8876 - val_loss: 0.2862 - val_accuracy: 0.8735\n",
            "Epoch 11/300\n",
            "32/32 [==============================] - 0s 7ms/step - loss: 0.2542 - accuracy: 0.8876 - val_loss: 0.2742 - val_accuracy: 0.8916\n",
            "Epoch 12/300\n",
            "32/32 [==============================] - 0s 8ms/step - loss: 0.2513 - accuracy: 0.8936 - val_loss: 0.2723 - val_accuracy: 0.8946\n",
            "Epoch 13/300\n",
            "32/32 [==============================] - 0s 8ms/step - loss: 0.2471 - accuracy: 0.8946 - val_loss: 0.2707 - val_accuracy: 0.8976\n",
            "Epoch 14/300\n",
            "32/32 [==============================] - 0s 8ms/step - loss: 0.2493 - accuracy: 0.8916 - val_loss: 0.2739 - val_accuracy: 0.8916\n",
            "Epoch 15/300\n",
            "32/32 [==============================] - 0s 7ms/step - loss: 0.2484 - accuracy: 0.8896 - val_loss: 0.2824 - val_accuracy: 0.8976\n",
            "Epoch 16/300\n",
            "32/32 [==============================] - 0s 8ms/step - loss: 0.2547 - accuracy: 0.8835 - val_loss: 0.2727 - val_accuracy: 0.9006\n",
            "Epoch 17/300\n",
            "32/32 [==============================] - 0s 9ms/step - loss: 0.2441 - accuracy: 0.8966 - val_loss: 0.2710 - val_accuracy: 0.9006\n",
            "Epoch 18/300\n",
            "32/32 [==============================] - 0s 7ms/step - loss: 0.2378 - accuracy: 0.9026 - val_loss: 0.2703 - val_accuracy: 0.8976\n",
            "Epoch 19/300\n",
            "32/32 [==============================] - 0s 8ms/step - loss: 0.2374 - accuracy: 0.8946 - val_loss: 0.2722 - val_accuracy: 0.8946\n",
            "Epoch 20/300\n",
            "32/32 [==============================] - 0s 8ms/step - loss: 0.2434 - accuracy: 0.8896 - val_loss: 0.2716 - val_accuracy: 0.9006\n",
            "Epoch 21/300\n",
            "32/32 [==============================] - 0s 7ms/step - loss: 0.2427 - accuracy: 0.8876 - val_loss: 0.2749 - val_accuracy: 0.9006\n",
            "Epoch 22/300\n",
            "32/32 [==============================] - 0s 12ms/step - loss: 0.2475 - accuracy: 0.8896 - val_loss: 0.2700 - val_accuracy: 0.9066\n",
            "Epoch 23/300\n",
            "32/32 [==============================] - 0s 14ms/step - loss: 0.2387 - accuracy: 0.9006 - val_loss: 0.2713 - val_accuracy: 0.9066\n",
            "Epoch 24/300\n",
            "32/32 [==============================] - 0s 10ms/step - loss: 0.2400 - accuracy: 0.8906 - val_loss: 0.2703 - val_accuracy: 0.9006\n",
            "Epoch 25/300\n",
            "32/32 [==============================] - 0s 6ms/step - loss: 0.2344 - accuracy: 0.8946 - val_loss: 0.2721 - val_accuracy: 0.9066\n",
            "Epoch 26/300\n",
            "32/32 [==============================] - 0s 6ms/step - loss: 0.2510 - accuracy: 0.8855 - val_loss: 0.2649 - val_accuracy: 0.9006\n",
            "Epoch 27/300\n",
            "32/32 [==============================] - 0s 5ms/step - loss: 0.2323 - accuracy: 0.9016 - val_loss: 0.2681 - val_accuracy: 0.9006\n",
            "Epoch 28/300\n",
            "32/32 [==============================] - 0s 5ms/step - loss: 0.2374 - accuracy: 0.8906 - val_loss: 0.2655 - val_accuracy: 0.9006\n",
            "Epoch 29/300\n",
            "32/32 [==============================] - 0s 5ms/step - loss: 0.2395 - accuracy: 0.8956 - val_loss: 0.2679 - val_accuracy: 0.9066\n",
            "Epoch 30/300\n",
            "32/32 [==============================] - 0s 6ms/step - loss: 0.2247 - accuracy: 0.8926 - val_loss: 0.2691 - val_accuracy: 0.8886\n",
            "Epoch 31/300\n",
            "32/32 [==============================] - 0s 7ms/step - loss: 0.2312 - accuracy: 0.8966 - val_loss: 0.2677 - val_accuracy: 0.9006\n",
            "Epoch 32/300\n",
            "32/32 [==============================] - 0s 8ms/step - loss: 0.2352 - accuracy: 0.9016 - val_loss: 0.2675 - val_accuracy: 0.9006\n",
            "Epoch 33/300\n",
            "32/32 [==============================] - 0s 8ms/step - loss: 0.2405 - accuracy: 0.9016 - val_loss: 0.2702 - val_accuracy: 0.8795\n",
            "Epoch 34/300\n",
            "32/32 [==============================] - 0s 9ms/step - loss: 0.2343 - accuracy: 0.8946 - val_loss: 0.2651 - val_accuracy: 0.9006\n",
            "Epoch 35/300\n",
            "32/32 [==============================] - 0s 10ms/step - loss: 0.2347 - accuracy: 0.8926 - val_loss: 0.2672 - val_accuracy: 0.8886\n",
            "Epoch 36/300\n",
            "32/32 [==============================] - 0s 8ms/step - loss: 0.2251 - accuracy: 0.8956 - val_loss: 0.2667 - val_accuracy: 0.9006\n"
          ]
        },
        {
          "output_type": "execute_result",
          "data": {
            "text/plain": [
              "<keras.callbacks.History at 0x7f0fbb2dfc70>"
            ]
          },
          "metadata": {},
          "execution_count": 54
        }
      ]
    },
    {
      "cell_type": "code",
      "source": [
        "eval_result = model.evaluate(x_test, y_test)\n",
        "print(\"[test loss, test accuracy]:\", eval_result)"
      ],
      "metadata": {
        "colab": {
          "base_uri": "https://localhost:8080/"
        },
        "id": "xCAHcc4zojOa",
        "outputId": "5eb4948e-5f48-4767-e1a9-5fb5926c9309"
      },
      "execution_count": 55,
      "outputs": [
        {
          "output_type": "stream",
          "name": "stdout",
          "text": [
            "11/11 [==============================] - 0s 4ms/step - loss: 0.2627 - accuracy: 0.9036\n",
            "[test loss, test accuracy]: [0.2626582086086273, 0.9036144614219666]\n"
          ]
        }
      ]
    }
  ]
}